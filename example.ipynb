{
 "cells": [
  {
   "cell_type": "code",
   "execution_count": null,
   "metadata": {},
   "outputs": [],
   "source": [
    "using PyPlot\n",
    "\n",
    "# Start a new figure\n",
    "figure()\n",
    "\n",
    "# Plot some data on the new figure\n",
    "x = 1:10;\n",
    "y = rand(10);\n",
    "plot(x, y)\n",
    "gcf()\n",
    "# Additional plot commands can go here, they will be added to the new figure"
   ]
  }
 ],
 "metadata": {
  "kernelspec": {
   "display_name": "Julia 1.10.2",
   "language": "julia",
   "name": "julia-1.10"
  },
  "language_info": {
   "file_extension": ".jl",
   "mimetype": "application/julia",
   "name": "julia",
   "version": "1.10.2"
  }
 },
 "nbformat": 4,
 "nbformat_minor": 2
}
