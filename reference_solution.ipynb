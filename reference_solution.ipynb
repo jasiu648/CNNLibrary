{
 "cells": [
  {
   "cell_type": "code",
   "execution_count": 5,
   "metadata": {},
   "outputs": [
    {
     "data": {
      "text/plain": [
       "loss_and_accuracy (generic function with 1 method)"
      ]
     },
     "metadata": {},
     "output_type": "display_data"
    }
   ],
   "source": [
    "using Statistics: mean  # standard library\n",
    "function loss_and_accuracy(model, data)\n",
    "\n",
    "    (x,y) = only(loader(data; batchsize=length(data)))\n",
    "    ŷ = model(x)\n",
    "\n",
    "    loss = Flux.logitcrossentropy(ŷ, y)  # did not include softmax in the model\n",
    "    acc = round(100 * mean(Flux.onecold(ŷ) .== Flux.onecold(y)); digits=2) # maxa z kolekcji\n",
    "    (; loss, acc, split=data.split)  # return a NamedTuple\n",
    "end"
   ]
  },
  {
   "cell_type": "code",
   "execution_count": 6,
   "metadata": {},
   "outputs": [
    {
     "data": {
      "text/plain": [
       "Chain(\n",
       "  Conv((3, 3), 1 => 6, relu, bias=false),  \u001b[90m# 54 parameters\u001b[39m\n",
       "  MaxPool((2, 2)),\n",
       "  Flux.flatten,\n",
       "  Dense(1014 => 84, relu; bias=false),  \u001b[90m# 85_176 parameters\u001b[39m\n",
       "  Dense(84 => 10; bias=false),          \u001b[90m# 840 parameters\u001b[39m\n",
       ") \u001b[90m                  # Total: 3 arrays, \u001b[39m86_070 parameters, 336.820 KiB."
      ]
     },
     "metadata": {},
     "output_type": "display_data"
    }
   ],
   "source": [
    "# Opracowane na podstawie https://github.com/FluxML/model-zoo/blob/3e91af32ebfad628b616618b11bfff2f9f519bec/vision/conv_mnist/conv_mnist.jl\n",
    "using MLDatasets, Flux\n",
    "train_data = MLDatasets.MNIST(split=:train)\n",
    "test_data  = MLDatasets.MNIST(split=:test)\n",
    "\n",
    "function loader(data; batchsize::Int=1)\n",
    "    x4dim = reshape(data.features, 28, 28, 1, :) # insert trivial channel dim\n",
    "    yhot  = Flux.onehotbatch(data.targets, 0:9)  # make a 10×60000 OneHotMatrix\n",
    "    Flux.DataLoader((x4dim, yhot); batchsize, shuffle=true)\n",
    "end\n",
    "#=\n",
    "net = Chain(\n",
    "    Conv((3, 3), 1 => 6,  relu),\n",
    "    MaxPool((2, 2)),\n",
    "    Conv((3, 3), 6 => 16, relu),\n",
    "    MaxPool((2, 2)),\n",
    "    Flux.flatten,\n",
    "    Dense(400 => 84, relu), \n",
    "    Dense(84 => 10, identity),\n",
    ")\n",
    "=#\n",
    "#= ew. prostsza architektura:\n",
    "=#\n",
    "net = Chain(\n",
    "    Conv((3, 3), 1 => 6,  relu, bias=false),\n",
    "    MaxPool((2, 2)),\n",
    "    Flux.flatten,\n",
    "    Dense(13*13*6 => 84, relu, bias=false), \n",
    "    Dense(84 => 10, identity, bias = false)\n",
    ")\n"
   ]
  },
  {
   "cell_type": "code",
   "execution_count": 12,
   "metadata": {},
   "outputs": [],
   "source": [
    "\n",
    "\n",
    "train_log = []\n",
    "settings = (;\n",
    "    eta = 1e-2,\n",
    "    epochs = 3,\n",
    "    batchsize = 100,\n",
    ")\n",
    "\n",
    "opt_state = Flux.setup(Descent(settings.eta), net);"
   ]
  },
  {
   "cell_type": "code",
   "execution_count": 13,
   "metadata": {},
   "outputs": [
    {
     "name": "stdout",
     "output_type": "stream",
     "text": [
      "  4.908772 seconds (401.12 k allocations: 4.795 GiB, 5.07% gc time, 2.93% compilation time)\n"
     ]
    },
    {
     "name": "stderr",
     "output_type": "stream",
     "text": [
      "┌ Info: 1\n",
      "│   acc = 91.43\n",
      "│   test_acc = 92.05\n",
      "└ @ Main d:\\Projects\\CNNLibrary\\reference_solution.ipynb:9\n"
     ]
    },
    {
     "name": "stdout",
     "output_type": "stream",
     "text": [
      "  5.332170 seconds (264.29 k allocations: 4.787 GiB, 10.97% gc time)\n"
     ]
    },
    {
     "name": "stderr",
     "output_type": "stream",
     "text": [
      "┌ Info: 2\n",
      "│   acc = 92.37\n",
      "│   test_acc = 92.9\n",
      "└ @ Main d:\\Projects\\CNNLibrary\\reference_solution.ipynb:9\n"
     ]
    },
    {
     "name": "stdout",
     "output_type": "stream",
     "text": [
      "  5.307627 seconds (264.29 k allocations: 4.787 GiB, 10.65% gc time)\n"
     ]
    },
    {
     "name": "stderr",
     "output_type": "stream",
     "text": [
      "┌ Info: 3\n",
      "│   acc = 93.45\n",
      "│   test_acc = 93.81\n",
      "└ @ Main d:\\Projects\\CNNLibrary\\reference_solution.ipynb:9\n"
     ]
    }
   ],
   "source": [
    "for epoch in 1:settings.epochs\n",
    "    @time for (x,y) in loader(train_data, batchsize=settings.batchsize)\n",
    "        grads = Flux.gradient(model -> Flux.logitcrossentropy(model(x), y), net)\n",
    "        Flux.update!(opt_state, net, grads[1])\n",
    "    end\n",
    "    \n",
    "    loss, acc, _ = loss_and_accuracy(net, train_data)\n",
    "    test_loss, test_acc, _ = loss_and_accuracy(net, test_data)\n",
    "    @info epoch acc test_acc\n",
    "    nt = (; epoch, loss, acc, test_loss, test_acc) \n",
    "    push!(train_log, nt)\n",
    "end"
   ]
  }
 ],
 "metadata": {
  "kernelspec": {
   "display_name": "Julia 1.10.2",
   "language": "julia",
   "name": "julia-1.10"
  },
  "language_info": {
   "file_extension": ".jl",
   "mimetype": "application/julia",
   "name": "julia",
   "version": "1.10.2"
  }
 },
 "nbformat": 4,
 "nbformat_minor": 2
}
