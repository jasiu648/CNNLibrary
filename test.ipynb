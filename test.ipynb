{
 "cells": [
  {
   "cell_type": "code",
   "execution_count": 3,
   "metadata": {},
   "outputs": [
    {
     "ename": "SystemError",
     "evalue": "SystemError: opening file \"d:\\\\Projects\\\\CNNLibrary\\\\dualnumbers.jl\": No such file or directory",
     "output_type": "error",
     "traceback": [
      "SystemError: opening file \"d:\\\\Projects\\\\CNNLibrary\\\\dualnumbers.jl\": No such file or directory\n",
      "\n",
      "Stacktrace:\n",
      "  [1] systemerror(p::String, errno::Int32; extrainfo::Nothing)\n",
      "    @ Base .\\error.jl:176\n",
      "  [2] systemerror\n",
      "    @ .\\error.jl:175 [inlined]\n",
      "  [3] open(fname::String; lock::Bool, read::Nothing, write::Nothing, create::Nothing, truncate::Nothing, append::Nothing)\n",
      "    @ Base .\\iostream.jl:293\n",
      "  [4] open\n",
      "    @ .\\iostream.jl:275 [inlined]\n",
      "  [5] open(f::Base.var\"#433#434\"{String}, args::String; kwargs::@Kwargs{})\n",
      "    @ Base .\\io.jl:394\n",
      "  [6] open\n",
      "    @ .\\io.jl:393 [inlined]\n",
      "  [7] read\n",
      "    @ .\\io.jl:486 [inlined]\n",
      "  [8] _include(mapexpr::Function, mod::Module, _path::String)\n",
      "    @ Base .\\loading.jl:2132\n",
      "  [9] include(fname::String)\n",
      "    @ Base.MainInclude .\\client.jl:489\n",
      " [10] top-level scope\n",
      "    @ d:\\Projects\\CNNLibrary\\test.ipynb:1"
     ]
    }
   ],
   "source": [
    "include(\"dualnumbers.jl\")"
   ]
  },
  {
   "cell_type": "code",
   "execution_count": 3,
   "metadata": {},
   "outputs": [
    {
     "data": {
      "text/plain": [
       "Dual{Int64}(1, 1)"
      ]
     },
     "metadata": {},
     "output_type": "display_data"
    }
   ],
   "source": [
    "a = Dual(1,1)"
   ]
  },
  {
   "cell_type": "code",
   "execution_count": 8,
   "metadata": {},
   "outputs": [
    {
     "data": {
      "text/plain": [
       "2"
      ]
     },
     "metadata": {},
     "output_type": "display_data"
    }
   ],
   "source": [
    "b =2"
   ]
  },
  {
   "cell_type": "code",
   "execution_count": 11,
   "metadata": {},
   "outputs": [
    {
     "data": {
      "text/plain": [
       "(3) + [1ϵ]"
      ]
     },
     "metadata": {},
     "output_type": "display_data"
    }
   ],
   "source": [
    "c = a + b"
   ]
  },
  {
   "cell_type": "code",
   "execution_count": 34,
   "metadata": {},
   "outputs": [
    {
     "data": {
      "text/plain": [
       "Chain(\n",
       "  Conv((3, 3), 1 => 6, relu, bias=false),  \u001b[90m# 54 parameters\u001b[39m\n",
       "  MaxPool((2, 2)),\n",
       "  Flux.flatten,\n",
       "  Dense(1014 => 84, relu; bias=false),  \u001b[90m# 85_176 parameters\u001b[39m\n",
       "  Dense(84 => 10; bias=false),          \u001b[90m# 840 parameters\u001b[39m\n",
       ") \u001b[90m                  # Total: 3 arrays, \u001b[39m86_070 parameters, 336.820 KiB."
      ]
     },
     "metadata": {},
     "output_type": "display_data"
    }
   ],
   "source": [
    "using Flux\n",
    "net = Chain(\n",
    "    Conv((3, 3), 1 => 6,  relu, bias=false),\n",
    "    MaxPool((2, 2)),\n",
    "    Flux.flatten,\n",
    "    Dense(13*13*6 => 84, relu, bias=false), \n",
    "    Dense(84 => 10, identity, bias=false)\n",
    ")"
   ]
  },
  {
   "cell_type": "code",
   "execution_count": 50,
   "metadata": {},
   "outputs": [
    {
     "data": {
      "text/plain": [
       "28×28×1×1 Array{Float32, 4}:\n",
       "[:, :, 1, 1] =\n",
       " 0.298563    0.694607   0.330472    …  0.172439   0.656142   0.97054\n",
       " 0.340215    0.872474   0.321966       0.442656   0.481282   0.817187\n",
       " 0.749119    0.945164   0.246382       0.729482   0.171813   0.272948\n",
       " 0.71564     0.275894   0.926067       0.987902   0.506153   0.64255\n",
       " 0.281864    0.0454142  0.040751       0.0637544  0.864003   0.812443\n",
       " 0.215747    0.35735    0.255486    …  0.826479   0.957696   0.155462\n",
       " 0.557329    0.965803   0.00584215     0.110191   0.0820884  0.826163\n",
       " 0.534281    0.16959    0.463708       0.829711   0.462792   0.626427\n",
       " 0.829285    0.544036   0.368293       0.673095   0.0390491  0.554505\n",
       " 0.174704    0.354195   0.239103       0.426874   0.65064    0.698675\n",
       " ⋮                                  ⋱  ⋮                     \n",
       " 0.388154    0.533091   0.568959       0.275459   0.512509   0.273376\n",
       " 0.522932    0.801968   0.330674    …  0.639468   0.366319   0.130462\n",
       " 0.742571    0.10215    0.376529       0.0908153  0.209053   0.145079\n",
       " 0.91293     0.0569981  0.335864       0.856881   0.713235   0.807116\n",
       " 0.331131    0.635166   0.351252       0.678018   0.581948   0.0906135\n",
       " 0.165172    0.907563   0.544027       0.312713   0.0232778  0.199829\n",
       " 0.0691151   0.443712   0.0151364   …  0.83972    0.171092   0.00626647\n",
       " 0.595144    0.115038   0.826542       0.280864   0.247355   0.706648\n",
       " 0.00902814  0.888658   0.14472        0.512429   0.896362   0.280006"
      ]
     },
     "metadata": {},
     "output_type": "display_data"
    }
   ],
   "source": [
    "random_matrix = rand(Float32, 28, 28, 1, 1)"
   ]
  },
  {
   "cell_type": "code",
   "execution_count": 54,
   "metadata": {},
   "outputs": [
    {
     "data": {
      "text/plain": [
       "10×1 Matrix{Float32}:\n",
       "  0.0627172\n",
       " -0.40374506\n",
       " -0.99287903\n",
       "  0.6084881\n",
       " -0.693969\n",
       "  0.5215976\n",
       "  0.6536723\n",
       "  1.0596387\n",
       " -0.9667761\n",
       " -0.18221101"
      ]
     },
     "metadata": {},
     "output_type": "display_data"
    }
   ],
   "source": [
    "a = net(random_matrix)"
   ]
  },
  {
   "cell_type": "code",
   "execution_count": 33,
   "metadata": {},
   "outputs": [
    {
     "data": {
      "text/plain": [
       "1-element Vector{Float32}:\n",
       " 0.0"
      ]
     },
     "metadata": {},
     "output_type": "display_data"
    }
   ],
   "source": [
    "Flux.params(model)[4]"
   ]
  }
 ],
 "metadata": {
  "kernelspec": {
   "display_name": "Julia 1.10.2",
   "language": "julia",
   "name": "julia-1.10"
  },
  "language_info": {
   "file_extension": ".jl",
   "mimetype": "application/julia",
   "name": "julia",
   "version": "1.10.2"
  }
 },
 "nbformat": 4,
 "nbformat_minor": 2
}
