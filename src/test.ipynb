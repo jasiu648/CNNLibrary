{
 "cells": [
  {
   "cell_type": "code",
   "execution_count": 204,
   "metadata": {},
   "outputs": [
    {
     "data": {
      "text/plain": [
       "build_graph (generic function with 1 method)"
      ]
     },
     "metadata": {},
     "output_type": "display_data"
    }
   ],
   "source": [
    "include(\"forward_pass.jl\")\n",
    "include(\"backward_pass.jl\");\n",
    "include(\"utils.jl\");\n",
    "include(\"convolution.jl\");\n",
    "include(\"graph_building.jl\");\n",
    "include(\"load_data.jl\");\n",
    "#include(\"scalar_operators.jl\");\n",
    "include(\"broadcasted_operators.jl\")\n",
    "include(\"network.jl\")"
   ]
  },
  {
   "cell_type": "code",
   "execution_count": 205,
   "metadata": {},
   "outputs": [
    {
     "name": "stdout",
     "output_type": "stream",
     "text": [
      "(28, 28, 1, 1)(3, 3, 1, 6)(1014, 84)(84, 10)(1, 10)"
     ]
    },
    {
     "data": {
      "text/plain": [
       "13-element Vector{Any}:\n",
       " const Float32[-0.03851054 -0.03925952 … 0.032242406 -0.008174222; -0.002017099 -0.050906677 … -0.0311617 -0.057012837; … ; 0.0069149295 -0.0066874437 … -0.031533528 0.02412144; 0.023680177 0.03649727 … 0.021443563 0.01507725;;;;]\n",
       " var wh1\n",
       " ┣━ ^ 3×3×1×6 Array{Float32, 4}\n",
       " ┗━ ∇ Nothing\n",
       " op.?(typeof(conv))\n",
       " op.x1(typeof(relu))\n",
       " op.x2(typeof(maxpool))\n",
       " op.x3(typeof(flatten))\n",
       " var wh2\n",
       " ┣━ ^ 1014×84 Matrix{Float64}\n",
       " ┗━ ∇ Nothing\n",
       " op.?(typeof(mul!))\n",
       " op.x4(typeof(relu))\n",
       " var wo\n",
       " ┣━ ^ 84×10 Matrix{Float64}\n",
       " ┗━ ∇ Nothing\n",
       " op.x5(typeof(mul!))\n",
       " const [0.7273174152263877 0.22433732862193037 … -0.7146577535950686 2.350813734198045]\n",
       " op.x6(typeof(cross_entropy_loss))"
      ]
     },
     "metadata": {},
     "output_type": "display_data"
    }
   ],
   "source": [
    "model = build_graph()"
   ]
  },
  {
   "cell_type": "code",
   "execution_count": 206,
   "metadata": {},
   "outputs": [
    {
     "data": {
      "text/plain": [
       "(eta = 0.01, epochs = 3, batchsize = 100)"
      ]
     },
     "metadata": {},
     "output_type": "display_data"
    }
   ],
   "source": [
    "x4dim = reshape(train_data.features, 28, 28, 1, :) # insert trivial channel dim\n",
    "yhot  = onehotmatrix(train_data.targets, 0:9)\n",
    "settings = (;\n",
    "eta = 1e-2,\n",
    "epochs = 3,\n",
    "batchsize = 100,\n",
    ")"
   ]
  },
  {
   "cell_type": "code",
   "execution_count": 207,
   "metadata": {},
   "outputs": [],
   "source": [
    "train_model(model, x4dim, yhot, settings.batchsize, settings.eta)"
   ]
  },
  {
   "cell_type": "code",
   "execution_count": 103,
   "metadata": {},
   "outputs": [
    {
     "name": "stdout",
     "output_type": "stream",
     "text": [
      "(28, 28, 1, 1)(3, 3, 1, 6)(1014, 84)(84, 10)(1, 10)"
     ]
    }
   ],
   "source": [
    "net, x, y = build_graph();\n"
   ]
  },
  {
   "cell_type": "code",
   "execution_count": 196,
   "metadata": {},
   "outputs": [
    {
     "data": {
      "text/plain": [
       "-8.225988148753503"
      ]
     },
     "metadata": {},
     "output_type": "display_data"
    }
   ],
   "source": [
    "forward!(model)"
   ]
  },
  {
   "cell_type": "code",
   "execution_count": null,
   "metadata": {},
   "outputs": [],
   "source": [
    "backward!(model)"
   ]
  },
  {
   "cell_type": "code",
   "execution_count": 203,
   "metadata": {},
   "outputs": [
    {
     "name": "stdout",
     "output_type": "stream",
     "text": [
      "12345678910"
     ]
    }
   ],
   "source": []
  },
  {
   "cell_type": "code",
   "execution_count": 217,
   "metadata": {},
   "outputs": [
    {
     "data": {
      "text/plain": [
       "1014×84 Matrix{Float64}:\n",
       " 0.0  0.0  0.0  0.0  0.0  0.0  0.0  0.0  …  0.0  0.0  0.0  0.0  0.0  0.0  0.0\n",
       " 0.0  0.0  0.0  0.0  0.0  0.0  0.0  0.0     0.0  0.0  0.0  0.0  0.0  0.0  0.0\n",
       " 0.0  0.0  0.0  0.0  0.0  0.0  0.0  0.0     0.0  0.0  0.0  0.0  0.0  0.0  0.0\n",
       " 0.0  0.0  0.0  0.0  0.0  0.0  0.0  0.0     0.0  0.0  0.0  0.0  0.0  0.0  0.0\n",
       " 0.0  0.0  0.0  0.0  0.0  0.0  0.0  0.0     0.0  0.0  0.0  0.0  0.0  0.0  0.0\n",
       " 0.0  0.0  0.0  0.0  0.0  0.0  0.0  0.0  …  0.0  0.0  0.0  0.0  0.0  0.0  0.0\n",
       " 0.0  0.0  0.0  0.0  0.0  0.0  0.0  0.0     0.0  0.0  0.0  0.0  0.0  0.0  0.0\n",
       " 0.0  0.0  0.0  0.0  0.0  0.0  0.0  0.0     0.0  0.0  0.0  0.0  0.0  0.0  0.0\n",
       " 0.0  0.0  0.0  0.0  0.0  0.0  0.0  0.0     0.0  0.0  0.0  0.0  0.0  0.0  0.0\n",
       " 0.0  0.0  0.0  0.0  0.0  0.0  0.0  0.0     0.0  0.0  0.0  0.0  0.0  0.0  0.0\n",
       " ⋮                        ⋮              ⋱                 ⋮              \n",
       " 0.0  0.0  0.0  0.0  0.0  0.0  0.0  0.0  …  0.0  0.0  0.0  0.0  0.0  0.0  0.0\n",
       " 0.0  0.0  0.0  0.0  0.0  0.0  0.0  0.0     0.0  0.0  0.0  0.0  0.0  0.0  0.0\n",
       " 0.0  0.0  0.0  0.0  0.0  0.0  0.0  0.0     0.0  0.0  0.0  0.0  0.0  0.0  0.0\n",
       " 0.0  0.0  0.0  0.0  0.0  0.0  0.0  0.0     0.0  0.0  0.0  0.0  0.0  0.0  0.0\n",
       " 0.0  0.0  0.0  0.0  0.0  0.0  0.0  0.0     0.0  0.0  0.0  0.0  0.0  0.0  0.0\n",
       " 0.0  0.0  0.0  0.0  0.0  0.0  0.0  0.0  …  0.0  0.0  0.0  0.0  0.0  0.0  0.0\n",
       " 0.0  0.0  0.0  0.0  0.0  0.0  0.0  0.0     0.0  0.0  0.0  0.0  0.0  0.0  0.0\n",
       " 0.0  0.0  0.0  0.0  0.0  0.0  0.0  0.0     0.0  0.0  0.0  0.0  0.0  0.0  0.0\n",
       " 0.0  0.0  0.0  0.0  0.0  0.0  0.0  0.0     0.0  0.0  0.0  0.0  0.0  0.0  0.0"
      ]
     },
     "metadata": {},
     "output_type": "display_data"
    }
   ],
   "source": [
    "model[7].gradient"
   ]
  },
  {
   "cell_type": "code",
   "execution_count": 195,
   "metadata": {},
   "outputs": [
    {
     "data": {
      "text/plain": [
       "const [0 0 … 0 0]"
      ]
     },
     "metadata": {},
     "output_type": "display_data"
    }
   ],
   "source": [
    "model[1] = Constant(x4dim[:,:,:,3])\n",
    "model[12] = Constant(reshape(yhot[:,3],1,10))"
   ]
  },
  {
   "cell_type": "code",
   "execution_count": 141,
   "metadata": {},
   "outputs": [
    {
     "data": {
      "text/plain": [
       "3×3×1×6 Array{Float64, 4}:\n",
       "[:, :, 1, 1] =\n",
       " -0.177736    -0.0156044   0.0873866\n",
       " -0.00385951  -0.175474   -0.132512\n",
       "  0.00135291  -0.0312976   0.0570216\n",
       "\n",
       "[:, :, 1, 2] =\n",
       " -0.300797   0.271856    0.169672\n",
       "  0.10082   -0.0319858  -0.260928\n",
       " -0.124501   0.230481   -0.0216921\n",
       "\n",
       "[:, :, 1, 3] =\n",
       "  0.2664      0.125745  -0.154283\n",
       " -0.0298813  -0.130068   0.2614\n",
       " -0.169113   -0.293947   0.170629\n",
       "\n",
       "[:, :, 1, 4] =\n",
       "  0.264035  0.101186   0.192357\n",
       " -0.134682  0.152155   0.0655297\n",
       "  0.244346  0.171571  -0.215438\n",
       "\n",
       "[:, :, 1, 5] =\n",
       " -0.265627    0.251423    -0.240172\n",
       "  0.0181901   0.00366457   0.179892\n",
       "  0.160627   -0.173334    -0.259599\n",
       "\n",
       "[:, :, 1, 6] =\n",
       " 0.170287      0.0164562   0.129692\n",
       " 0.0605988    -0.240143   -0.22663\n",
       " 0.000735739   0.307209    0.284612"
      ]
     },
     "metadata": {},
     "output_type": "display_data"
    }
   ],
   "source": [
    "model[2].output"
   ]
  },
  {
   "cell_type": "code",
   "execution_count": 5,
   "metadata": {},
   "outputs": [
    {
     "data": {
      "text/plain": [
       "10×60000 Matrix{Int64}:\n",
       " 0  1  0  0  0  0  0  0  0  0  0  0  0  …  0  0  0  0  0  0  0  0  0  0  0  0\n",
       " 0  0  0  1  0  0  1  0  1  0  0  0  0     0  0  0  0  0  0  1  0  0  0  0  0\n",
       " 0  0  0  0  0  1  0  0  0  0  0  0  0     0  0  0  1  0  0  0  0  0  0  0  0\n",
       " 0  0  0  0  0  0  0  1  0  0  1  0  1     0  0  0  0  0  0  0  0  1  0  0  0\n",
       " 0  0  1  0  0  0  0  0  0  1  0  0  0     0  0  0  0  0  0  0  0  0  0  0  0\n",
       " 1  0  0  0  0  0  0  0  0  0  0  1  0  …  0  0  0  0  0  1  0  0  0  1  0  0\n",
       " 0  0  0  0  0  0  0  0  0  0  0  0  0     0  0  0  0  0  0  0  0  0  0  1  0\n",
       " 0  0  0  0  0  0  0  0  0  0  0  0  0     1  0  0  0  0  0  0  0  0  0  0  0\n",
       " 0  0  0  0  0  0  0  0  0  0  0  0  0     0  1  0  0  0  0  0  1  0  0  0  1\n",
       " 0  0  0  0  1  0  0  0  0  0  0  0  0     0  0  1  0  1  0  0  0  0  0  0  0"
      ]
     },
     "metadata": {},
     "output_type": "display_data"
    }
   ],
   "source": [
    "x4dim = reshape(train_data.features, 28, 28, 1, :) # insert trivial channel dim\n",
    "yhot  = onehotmatrix(train_data.targets, 0:9)"
   ]
  },
  {
   "cell_type": "code",
   "execution_count": 45,
   "metadata": {},
   "outputs": [
    {
     "data": {
      "text/plain": [
       "10-element Vector{Int64}:\n",
       " 0\n",
       " 0\n",
       " 0\n",
       " 0\n",
       " 0\n",
       " 1\n",
       " 0\n",
       " 0\n",
       " 0\n",
       " 0"
      ]
     },
     "metadata": {},
     "output_type": "display_data"
    }
   ],
   "source": [
    "yhot[:,1]"
   ]
  },
  {
   "cell_type": "code",
   "execution_count": 46,
   "metadata": {},
   "outputs": [
    {
     "data": {
      "text/plain": [
       "(eta = 0.01, epochs = 3, batchsize = 100)"
      ]
     },
     "metadata": {},
     "output_type": "display_data"
    }
   ],
   "source": [
    "settings = (;\n",
    "eta = 1e-2,\n",
    "epochs = 3,\n",
    "batchsize = 100,\n",
    ")"
   ]
  },
  {
   "cell_type": "code",
   "execution_count": 53,
   "metadata": {},
   "outputs": [
    {
     "name": "stdout",
     "output_type": "stream",
     "text": [
      "(28, 28, 1, 1)(3, 3, 1, 6)(1014, 84)(84, 10)(1, 10)"
     ]
    },
    {
     "ename": "MethodError",
     "evalue": "MethodError: no method matching ndims(::Type{Nothing})\n\nClosest candidates are:\n  ndims(!Matched::Type{Union{}}, Any...)\n   @ Base abstractarray.jl:276\n  ndims(!Matched::Type{<:Number})\n   @ Base number.jl:86\n  ndims(!Matched::Type{<:Ref})\n   @ Base refpointer.jl:96\n  ...\n",
     "output_type": "error",
     "traceback": [
      "MethodError: no method matching ndims(::Type{Nothing})\n",
      "\n",
      "Closest candidates are:\n",
      "  ndims(!Matched::Type{Union{}}, Any...)\n",
      "   @ Base abstractarray.jl:276\n",
      "  ndims(!Matched::Type{<:Number})\n",
      "   @ Base number.jl:86\n",
      "  ndims(!Matched::Type{<:Ref})\n",
      "   @ Base refpointer.jl:96\n",
      "  ...\n",
      "\n",
      "\n",
      "Stacktrace:\n",
      " [1] Base.Broadcast.BroadcastStyle(::Type{Nothing})\n",
      "   @ Base.Broadcast .\\broadcast.jl:103\n",
      " [2] combine_styles(c::Nothing)\n",
      "   @ Base.Broadcast .\\broadcast.jl:460\n",
      " [3] combine_styles(c1::Nothing, c2::Base.Broadcast.Broadcasted{Base.Broadcast.DefaultArrayStyle{0}, Nothing, typeof(/), Tuple{Base.RefValue{Nothing}, Int64}})\n",
      "   @ Base.Broadcast .\\broadcast.jl:461\n",
      " [4] materialize!(dest::Nothing, bc::Base.Broadcast.Broadcasted{Base.Broadcast.DefaultArrayStyle{0}, Nothing, typeof(/), Tuple{Base.RefValue{Nothing}, Int64}})\n",
      "   @ Base.Broadcast .\\broadcast.jl:911\n",
      " [5] update_weights!(graph::Vector{Any}, lr::Float64, batch_size::Int64)\n",
      "   @ Main d:\\Projects\\CNNLibrary\\src\\network.jl:23\n",
      " [6] train_model(x_train::Array{Float32, 4}, y_train::Matrix{Int64}, batchsize::Int64, learning_rate::Float64)\n",
      "   @ Main d:\\Projects\\CNNLibrary\\src\\network.jl:44\n",
      " [7] top-level scope\n",
      "   @ d:\\Projects\\CNNLibrary\\src\\test.ipynb:1"
     ]
    }
   ],
   "source": [
    "train_model(x4dim, yhot, settings.batchsize, settings.eta)"
   ]
  },
  {
   "cell_type": "code",
   "execution_count": 7,
   "metadata": {},
   "outputs": [
    {
     "ename": "MethodError",
     "evalue": "MethodError: no method matching loader(::MNIST; batchsize::Int64)\n\nClosest candidates are:\n  loader(!Matched::Int64) got unsupported keyword argument \"batchsize\"\n   @ Main d:\\Projects\\CNNLibrary\\src\\load_data.jl:22\n  loader() got unsupported keyword argument \"batchsize\"\n   @ Main d:\\Projects\\CNNLibrary\\src\\load_data.jl:22\n",
     "output_type": "error",
     "traceback": [
      "MethodError: no method matching loader(::MNIST; batchsize::Int64)\n",
      "\n",
      "Closest candidates are:\n",
      "  loader(!Matched::Int64) got unsupported keyword argument \"batchsize\"\n",
      "   @ Main d:\\Projects\\CNNLibrary\\src\\load_data.jl:22\n",
      "  loader() got unsupported keyword argument \"batchsize\"\n",
      "   @ Main d:\\Projects\\CNNLibrary\\src\\load_data.jl:22\n",
      "\n",
      "\n",
      "Stacktrace:\n",
      " [1] macro expansion\n",
      "   @ .\\timing.jl:279 [inlined]\n",
      " [2] top-level scope\n",
      "   @ d:\\Projects\\CNNLibrary\\src\\test.ipynb:2"
     ]
    }
   ],
   "source": [
    "for epoch in 1:settings.epochs\n",
    "    @time for (x,y) in loader(train_data, batchsize=settings.batchsize)\n",
    "        grads = Flux.gradient(model -> Flux.logitcrossentropy(model(x), y), net)\n",
    "        sizeof(grads)\n",
    "        Flux.update!(opt_state, net, grads[1])\n",
    "    end\n",
    "    \n",
    "    loss, acc, _ = loss_and_accuracy(net, train_data)\n",
    "    test_loss, test_acc, _ = loss_and_accuracy(net, test_data)\n",
    "    @info epoch acc test_acc\n",
    "    nt = (; epoch, loss, acc, test_loss, test_acc) \n",
    "    push!(train_log, nt)\n",
    "end"
   ]
  }
 ],
 "metadata": {
  "kernelspec": {
   "display_name": "Julia 1.10.2",
   "language": "julia",
   "name": "julia-1.10"
  },
  "language_info": {
   "file_extension": ".jl",
   "mimetype": "application/julia",
   "name": "julia",
   "version": "1.10.2"
  }
 },
 "nbformat": 4,
 "nbformat_minor": 2
}
