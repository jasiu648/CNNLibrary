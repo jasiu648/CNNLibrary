{
 "cells": [
  {
   "cell_type": "code",
   "execution_count": 6,
   "metadata": {},
   "outputs": [
    {
     "data": {
      "text/plain": [
       "build_graph_advanced (generic function with 1 method)"
      ]
     },
     "metadata": {},
     "output_type": "display_data"
    }
   ],
   "source": [
    "include(\"network.jl\")"
   ]
  },
  {
   "cell_type": "code",
   "execution_count": 7,
   "metadata": {},
   "outputs": [
    {
     "data": {
      "text/plain": [
       "13-element Vector{Any}:\n",
       " const Float32[-0.024071751 0.004988444 … 0.026806084 -0.048377905; 0.006913631 -0.049229614 … -0.060328864 0.05490553; … ; 0.022135437 0.010479563 … 0.04038022 0.061359152; -1.2484457f-5 -0.046819746 … 0.031397074 0.050366893;;;;]\n",
       " var wh1\n",
       " ┣━ ^ 3×3×1×6 Array{Float64, 4}\n",
       " ┗━ ∇ Nothing\n",
       " op.?(typeof(conv))\n",
       " op.x1(typeof(relu))\n",
       " op.x2(typeof(maxpool))\n",
       " op.x3(typeof(flatten))\n",
       " var wh2\n",
       " ┣━ ^ 1014×84 Matrix{Float64}\n",
       " ┗━ ∇ Nothing\n",
       " op.?(typeof(mul!))\n",
       " op.x4(typeof(relu))\n",
       " var wo\n",
       " ┣━ ^ 84×10 Matrix{Float64}\n",
       " ┗━ ∇ Nothing\n",
       " op.x5(typeof(mul!))\n",
       " const [1.5893705652747816 -0.6783311178674317 … 1.1801981532630983 -1.31730160842509]\n",
       " op.x6(typeof(cross_entropy_loss))"
      ]
     },
     "metadata": {},
     "output_type": "display_data"
    }
   ],
   "source": [
    "model = build_graph()"
   ]
  },
  {
   "cell_type": "code",
   "execution_count": 8,
   "metadata": {},
   "outputs": [],
   "source": [
    "x_train = reshape(train_data.features, 28, 28, 1, :) # insert trivial channel dim\n",
    "y_train  = onehotmatrix(train_data.targets, 0:9)\n",
    "\n",
    "x_test = reshape(train_data.features, 28, 28, 1, :) # insert trivial channel dim\n",
    "y_test = onehotmatrix(train_data.targets, 0:9)\n",
    "\n",
    "settings = (;\n",
    "eta = 1e-2,\n",
    "epochs = 3,\n",
    "batchsize = 100,\n",
    ")\n",
    "global accurate = 0;\n",
    "global data_count = 0;"
   ]
  },
  {
   "cell_type": "code",
   "execution_count": 9,
   "metadata": {},
   "outputs": [
    {
     "name": "stdout",
     "output_type": "stream",
     "text": [
      "100.119375 seconds (1.55 G allocations: 197.393 GiB, 11.37% gc time, 4.38% compilation time)\n",
      "Epoch loss: NaN\n",
      " 95.046911 seconds (1.54 G allocations: 197.088 GiB, 11.38% gc time)\n",
      "Epoch loss: NaN\n",
      "105.821903 seconds (1.54 G allocations: 197.088 GiB, 10.93% gc time)\n",
      "Epoch loss: NaN\n"
     ]
    }
   ],
   "source": [
    "train_model(model, x_train, y_train, settings.batchsize, settings.eta)"
   ]
  },
  {
   "cell_type": "code",
   "execution_count": 10,
   "metadata": {},
   "outputs": [],
   "source": [
    "test_model(model, x_test, y_test)"
   ]
  }
 ],
 "metadata": {
  "kernelspec": {
   "display_name": "Julia 1.10.2",
   "language": "julia",
   "name": "julia-1.10"
  },
  "language_info": {
   "file_extension": ".jl",
   "mimetype": "application/julia",
   "name": "julia",
   "version": "1.10.2"
  }
 },
 "nbformat": 4,
 "nbformat_minor": 2
}
