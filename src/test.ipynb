{
 "cells": [
  {
   "cell_type": "code",
   "execution_count": 3,
   "metadata": {},
   "outputs": [
    {
     "data": {
      "text/plain": [
       "build_graph_advanced (generic function with 1 method)"
      ]
     },
     "metadata": {},
     "output_type": "display_data"
    }
   ],
   "source": [
    "include(\"network.jl\")"
   ]
  },
  {
   "cell_type": "code",
   "execution_count": 4,
   "metadata": {},
   "outputs": [
    {
     "data": {
      "text/plain": [
       "13-element Vector{Any}:\n",
       " const Float32[0.0530027 -0.026074177 … 0.03151315 0.017543826; 0.03658255 -0.057659537 … -0.04442762 0.025272878; … ; 0.0026696755 -0.0596008 … -0.017776798 0.053911235; 0.049835585 0.013423468 … -0.061592817 -0.0004970407;;;;]\n",
       " var wh1\n",
       " ┣━ ^ 3×3×1×6 Array{Float64, 4}\n",
       " ┗━ ∇ Nothing\n",
       " op.?(typeof(conv))\n",
       " op.x1(typeof(relu))\n",
       " op.x2(typeof(maxpool))\n",
       " op.x3(typeof(flatten))\n",
       " var wh2\n",
       " ┣━ ^ 1014×84 Matrix{Float64}\n",
       " ┗━ ∇ Nothing\n",
       " op.?(typeof(mul!))\n",
       " op.x4(typeof(relu))\n",
       " var wo\n",
       " ┣━ ^ 84×10 Matrix{Float64}\n",
       " ┗━ ∇ Nothing\n",
       " op.x5(typeof(mul!))\n",
       " const [0.4303326054467973 1.0504886877638449 … -0.024077298724201987 0.5695583917744609]\n",
       " op.x6(typeof(cross_entropy_loss))"
      ]
     },
     "metadata": {},
     "output_type": "display_data"
    }
   ],
   "source": [
    "model = build_graph()"
   ]
  },
  {
   "cell_type": "code",
   "execution_count": 5,
   "metadata": {},
   "outputs": [],
   "source": [
    "x_train = reshape(train_data.features, 28, 28, 1, :) # insert trivial channel dim\n",
    "y_train  = onehotmatrix(train_data.targets, 0:9)\n",
    "\n",
    "x_test = reshape(train_data.features, 28, 28, 1, :) # insert trivial channel dim\n",
    "y_test = onehotmatrix(train_data.targets, 0:9)\n",
    "\n",
    "settings = (;\n",
    "eta = 1e-2,\n",
    "epochs = 3,\n",
    "batchsize = 100,\n",
    ")\n",
    "global accurate = 0;\n",
    "global data_count = 0;"
   ]
  },
  {
   "cell_type": "code",
   "execution_count": 6,
   "metadata": {},
   "outputs": [
    {
     "name": "stdout",
     "output_type": "stream",
     "text": [
      " 95.158372 seconds (1.55 G allocations: 197.617 GiB, 10.80% gc time, 5.80% compilation time)\n",
      "Epoch loss: 15.40874198636038\n",
      " 97.153080 seconds (1.54 G allocations: 197.088 GiB, 11.28% gc time)\n",
      "Epoch loss: 13.969676776669596\n",
      " 97.037793 seconds (1.54 G allocations: 197.088 GiB, 11.16% gc time)\n",
      "Epoch loss: 9.559018124072082\n"
     ]
    }
   ],
   "source": [
    "train_model(model, x_train, y_train, settings.batchsize, settings.eta)"
   ]
  },
  {
   "cell_type": "code",
   "execution_count": 6,
   "metadata": {},
   "outputs": [
    {
     "name": "stdout",
     "output_type": "stream",
     "text": [
      "ACCURACY: 0.795525\n"
     ]
    }
   ],
   "source": [
    "test_model(model, x_test, y_test)"
   ]
  }
 ],
 "metadata": {
  "kernelspec": {
   "display_name": "Julia 1.10.2",
   "language": "julia",
   "name": "julia-1.10"
  },
  "language_info": {
   "file_extension": ".jl",
   "mimetype": "application/julia",
   "name": "julia",
   "version": "1.10.2"
  }
 },
 "nbformat": 4,
 "nbformat_minor": 2
}
