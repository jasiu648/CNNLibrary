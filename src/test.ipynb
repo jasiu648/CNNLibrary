{
 "cells": [
  {
   "cell_type": "code",
   "execution_count": 19,
   "metadata": {},
   "outputs": [
    {
     "data": {
      "text/plain": [
       "backward (generic function with 15 methods)"
      ]
     },
     "metadata": {},
     "output_type": "display_data"
    }
   ],
   "source": [
    "include(\"forward_pass.jl\")\n",
    "include(\"backward_pass.jl\");\n",
    "include(\"utils.jl\");\n",
    "include(\"convolution.jl\");\n",
    "include(\"graph_building.jl\");\n",
    "include(\"load_data.jl\");\n",
    "include(\"scalar_operators.jl\");\n",
    "include(\"broadcasted_operators.jl\")"
   ]
  },
  {
   "cell_type": "code",
   "execution_count": 20,
   "metadata": {},
   "outputs": [
    {
     "data": {
      "text/plain": [
       "6-element Vector{Any}:\n",
       " var x\n",
       " ┣━ ^ 2-element Vector{Float64}\n",
       " ┗━ ∇ Nothing\n",
       " var y\n",
       " ┣━ ^ 2-element Vector{Float64}\n",
       " ┗━ ∇ Nothing\n",
       " op.?(typeof(mul!))\n",
       " const 2.0\n",
       " op.?(typeof(^))\n",
       " op ?(typeof(sin))"
      ]
     },
     "metadata": {},
     "output_type": "display_data"
    }
   ],
   "source": [
    "x = Variable([5.0,4.0], name=\"x\")\n",
    "y = Variable([5.0,4.0], name=\"y\")\n",
    "z = x * y\n",
    "two = Constant(2.0)\n",
    "squared = z.^two\n",
    "sine = sin(squared)\n",
    "\n",
    "order = topological_sort(sine)"
   ]
  },
  {
   "cell_type": "code",
   "execution_count": 21,
   "metadata": {},
   "outputs": [
    {
     "data": {
      "text/plain": [
       "loader (generic function with 1 method)"
      ]
     },
     "metadata": {},
     "output_type": "display_data"
    }
   ],
   "source": [
    "using MLDatasets, Base, Flux\n",
    "train_data = MLDatasets.MNIST(split=:train)\n",
    "test_data  = MLDatasets.MNIST(split=:test)\n",
    "\n",
    "function loader(data; batchsize::Int=1)\n",
    "    x4dim = reshape(data.features, 28, 28, 1, :)\n",
    "    yhot  = Flux.onehotbatch(data.targets, 0:9) \n",
    "    Flux.DataLoader((x4dim, yhot); batchsize, shuffle=true)\n",
    "end"
   ]
  },
  {
   "cell_type": "code",
   "execution_count": 22,
   "metadata": {},
   "outputs": [
    {
     "data": {
      "text/plain": [
       "(Float32[0.0 0.0 … 0.0 0.0; 0.0 0.0 … 0.0 0.0; … ; 0.0 0.0 … 0.0 0.0; 0.0 0.0 … 0.0 0.0;;;;], Bool[0; 0; … ; 0; 0;;])"
      ]
     },
     "metadata": {},
     "output_type": "display_data"
    }
   ],
   "source": [
    "x1, y1 = first(loader(train_data))"
   ]
  },
  {
   "cell_type": "code",
   "execution_count": 23,
   "metadata": {},
   "outputs": [
    {
     "data": {
      "text/plain": [
       "mean_squared_loss (generic function with 1 method)"
      ]
     },
     "metadata": {},
     "output_type": "display_data"
    }
   ],
   "source": [
    "function dense(w, b, x, activation) return activation(w * x .+ b) end\n",
    "function dense(w, x, activation) return activation(w * x) end\n",
    "function dense(w, x) return w * x end\n",
    "\n",
    "function mean_squared_loss(y, ŷ)\n",
    "    return Constant(0.5) .* (y .- ŷ) .^ Constant(2)\n",
    "end\n",
    "#=\n",
    "net = Chain(\n",
    "    Conv((3, 3), 1 => 6,  relu, bias=false),\n",
    "    MaxPool((2, 2)),\n",
    "    Flux.flatten,\n",
    "    Dense(13*13*6 => 84, relu, bias=false), \n",
    "    Dense(84 => 10, identity, bias=false)\n",
    ")\n",
    "=#"
   ]
  },
  {
   "cell_type": "code",
   "execution_count": 30,
   "metadata": {},
   "outputs": [
    {
     "data": {
      "text/plain": [
       "var y\n",
       " ┣━ ^ 1-element Vector{Float64}\n",
       " ┗━ ∇ Nothing"
      ]
     },
     "metadata": {},
     "output_type": "display_data"
    }
   ],
   "source": [
    "Wh  = Variable(randn(10,2), name=\"wh\")\n",
    "Wo  = Variable(randn(1,10), name=\"wo\")\n",
    "x = Variable([1.98, 4.434], name=\"x\")\n",
    "y = Variable([0.064], name=\"y\")"
   ]
  },
  {
   "cell_type": "code",
   "execution_count": 31,
   "metadata": {},
   "outputs": [],
   "source": [
    "function net(x, wh, wo, y)\n",
    "    x̂ = dense(wh, x, relu)\n",
    "    x̂.name = \"x̂\"\n",
    "    ŷ = dense(wo, x̂)\n",
    "    ŷ.name = \"ŷ\"\n",
    "    E = mean_squared_loss(y, ŷ)\n",
    "    E.name = \"loss\"\n",
    "\n",
    "    return topological_sort(E)\n",
    "end\n",
    "graph = net(x, Wh, Wo, y)\n",
    "forward!(graph)\n",
    "backward!(graph)\n"
   ]
  },
  {
   "cell_type": "code",
   "execution_count": 32,
   "metadata": {},
   "outputs": [
    {
     "name": "stdout",
     "output_type": "stream",
     "text": [
      "1. const 0.5\n",
      "2. var y\n",
      " ┣━ ^ 1-element Vector{Float64}\n",
      " ┗━ ∇ 1×1 Matrix{Float64}\n",
      "3. var wo\n",
      " ┣━ ^ 1×10 Matrix{Float64}\n",
      " ┗━ ∇ 1×10 Matrix{Float64}\n",
      "4. var wh\n",
      " ┣━ ^ 10×2 Matrix{Float64}\n",
      " ┗━ ∇ 10×2 Matrix{Float64}\n",
      "5. var x\n",
      " ┣━ ^ 2-element Vector{Float64}\n",
      " ┗━ ∇ 2×1 Matrix{Float64}\n",
      "6. op.?(typeof(mul!))\n",
      "7. op.x̂(typeof(relu))\n",
      "8. op.ŷ(typeof(mul!))\n",
      "9. op.?(typeof(-))\n",
      "10. const 2\n",
      "11. op.?(typeof(^))\n",
      "12. op.loss(typeof(*))\n"
     ]
    }
   ],
   "source": [
    "\n",
    "for (i,n) in enumerate(graph)\n",
    "    print(i, \". \"); println(n)\n",
    "end"
   ]
  },
  {
   "cell_type": "code",
   "execution_count": null,
   "metadata": {},
   "outputs": [],
   "source": []
  }
 ],
 "metadata": {
  "kernelspec": {
   "display_name": "Julia 1.10.2",
   "language": "julia",
   "name": "julia-1.10"
  },
  "language_info": {
   "file_extension": ".jl",
   "mimetype": "application/julia",
   "name": "julia",
   "version": "1.10.2"
  }
 },
 "nbformat": 4,
 "nbformat_minor": 2
}
