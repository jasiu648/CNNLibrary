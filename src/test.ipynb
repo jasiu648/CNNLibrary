{
 "cells": [
  {
   "cell_type": "code",
   "execution_count": 1,
   "metadata": {},
   "outputs": [
    {
     "data": {
      "text/plain": [
       "backward (generic function with 11 methods)"
      ]
     },
     "metadata": {},
     "output_type": "display_data"
    }
   ],
   "source": [
    "include(\"forward_pass.jl\")\n",
    "include(\"backward_pass.jl\");\n",
    "include(\"utils.jl\");\n",
    "include(\"convolution.jl\");\n",
    "include(\"graph_building.jl\");\n",
    "include(\"load_data.jl\");\n",
    "include(\"scalar_operators.jl\");\n",
    "include(\"broadcasted_operators.jl\")"
   ]
  },
  {
   "cell_type": "code",
   "execution_count": 2,
   "metadata": {},
   "outputs": [
    {
     "data": {
      "text/plain": [
       "6-element Vector{Any}:\n",
       " var x\n",
       " ┣━ ^ 2-element Vector{Float64}\n",
       " ┗━ ∇ Nothing\n",
       " var y\n",
       " ┣━ ^ 2-element Vector{Float64}\n",
       " ┗━ ∇ Nothing\n",
       " op.?(typeof(mul!))\n",
       " const 2.0\n",
       " op.?(typeof(^))\n",
       " op ?(typeof(sin))"
      ]
     },
     "metadata": {},
     "output_type": "display_data"
    }
   ],
   "source": [
    "x = Variable([5.0,4.0], name=\"x\")\n",
    "y = Variable([5.0,4.0], name=\"y\")\n",
    "z = x * y\n",
    "two = Constant(2.0)\n",
    "squared = z.^two\n",
    "sine = sin(squared)\n",
    "\n",
    "order = topological_sort(sine)"
   ]
  },
  {
   "cell_type": "code",
   "execution_count": 3,
   "metadata": {},
   "outputs": [
    {
     "data": {
      "text/plain": [
       "loader (generic function with 1 method)"
      ]
     },
     "metadata": {},
     "output_type": "display_data"
    }
   ],
   "source": [
    "using MLDatasets, Base, Flux\n",
    "train_data = MLDatasets.MNIST(split=:train)\n",
    "test_data  = MLDatasets.MNIST(split=:test)\n",
    "\n",
    "function loader(data; batchsize::Int=1)\n",
    "    x4dim = reshape(data.features, 28, 28, 1, :)\n",
    "    yhot  = Flux.onehotbatch(data.targets, 0:9) \n",
    "    Flux.DataLoader((x4dim, yhot); batchsize, shuffle=true)\n",
    "end"
   ]
  },
  {
   "cell_type": "code",
   "execution_count": 4,
   "metadata": {},
   "outputs": [
    {
     "data": {
      "text/plain": [
       "(Float32[0.0 0.0 … 0.0 0.0; 0.0 0.0 … 0.0 0.0; … ; 0.0 0.0 … 0.0 0.0; 0.0 0.0 … 0.0 0.0;;;;], Bool[0; 0; … ; 0; 0;;])"
      ]
     },
     "metadata": {},
     "output_type": "display_data"
    }
   ],
   "source": [
    "x1, y1 = first(loader(train_data))"
   ]
  },
  {
   "cell_type": "code",
   "execution_count": 5,
   "metadata": {},
   "outputs": [
    {
     "data": {
      "text/plain": [
       "mean_squared_loss (generic function with 1 method)"
      ]
     },
     "metadata": {},
     "output_type": "display_data"
    }
   ],
   "source": [
    "function dense(w, b, x, activation) return activation(w * x .+ b) end\n",
    "function dense(w, x, activation) return activation(w * x) end\n",
    "function dense(w, x) return w * x end\n",
    "\n",
    "function mean_squared_loss(y, ŷ)\n",
    "    return Constant(0.5) .* (y .- ŷ) .^ Constant(2)\n",
    "end\n",
    "#=\n",
    "net = Chain(\n",
    "    Conv((3, 3), 1 => 6,  relu, bias=false),\n",
    "    MaxPool((2, 2)),\n",
    "    Flux.flatten,\n",
    "    Dense(13*13*6 => 84, relu, bias=false), \n",
    "    Dense(84 => 10, identity, bias=false)\n",
    ")\n",
    "=#"
   ]
  },
  {
   "cell_type": "code",
   "execution_count": 6,
   "metadata": {},
   "outputs": [
    {
     "data": {
      "text/plain": [
       "var y\n",
       " ┣━ ^ 1-element Vector{Float64}\n",
       " ┗━ ∇ Nothing"
      ]
     },
     "metadata": {},
     "output_type": "display_data"
    }
   ],
   "source": [
    "Wh  = Variable(randn(10,2), name=\"wh\")\n",
    "Wo  = Variable(randn(1,10), name=\"wo\")\n",
    "x = Variable([1.98, 4.434], name=\"x\")\n",
    "y = Variable([0.064], name=\"y\")"
   ]
  },
  {
   "cell_type": "code",
   "execution_count": 7,
   "metadata": {},
   "outputs": [],
   "source": [
    "function net(x, wh, wo, y)\n",
    "    x̂ = dense(wh, x, relu)\n",
    "    x̂.name = \"x̂\"\n",
    "    ŷ = dense(wo, x̂)\n",
    "    ŷ.name = \"ŷ\"\n",
    "    E = mean_squared_loss(y, ŷ)\n",
    "    E.name = \"loss\"\n",
    "\n",
    "    return topological_sort(E)\n",
    "end\n",
    "graph = net(x, Wh, Wo, y)\n",
    "forward!(graph)\n",
    "backward!(graph)\n"
   ]
  },
  {
   "cell_type": "code",
   "execution_count": 8,
   "metadata": {},
   "outputs": [
    {
     "name": "stdout",
     "output_type": "stream",
     "text": [
      "1. const 0.5\n",
      "2. var y\n",
      " ┣━ ^ 1-element Vector{Float64}\n",
      " ┗━ ∇ 1×1 Matrix{Float64}\n",
      "3. var wo\n",
      " ┣━ ^ 1×10 Matrix{Float64}\n",
      " ┗━ ∇ 1×10 Matrix{Float64}\n",
      "4. var wh\n",
      " ┣━ ^ 10×2 Matrix{Float64}\n",
      " ┗━ ∇ 10×2 Matrix{Float64}\n",
      "5. var x\n",
      " ┣━ ^ 2-element Vector{Float64}\n",
      " ┗━ ∇ 2×1 Matrix{Float64}\n",
      "6. op.?(typeof(mul!))\n",
      "7. op.x̂(typeof(relu))\n",
      "8. op.ŷ(typeof(mul!))\n",
      "9. op.?(typeof(-))\n",
      "10. const 2\n",
      "11. op.?(typeof(^))\n",
      "12. op.loss(typeof(*))\n"
     ]
    }
   ],
   "source": [
    "\n",
    "for (i,n) in enumerate(graph)\n",
    "    print(i, \". \"); println(n)\n",
    "end"
   ]
  },
  {
   "cell_type": "code",
   "execution_count": 9,
   "metadata": {},
   "outputs": [
    {
     "data": {
      "text/plain": [
       "4×4 Matrix{Float64}:\n",
       " 0.136007  0.0  0.0  0.0\n",
       " 0.0       0.0  0.0  0.0\n",
       " 0.0       0.0  0.0  0.0\n",
       " 0.0       0.0  0.0  0.0"
      ]
     },
     "metadata": {},
     "output_type": "display_data"
    }
   ],
   "source": [
    "using Flux\n",
    "\n",
    "function max_pool_backward(input, indices, grad_output, pool_size)\n",
    "    \"\"\"\n",
    "    Backward pass for max-pooling operation.\n",
    "\n",
    "    Parameters:\n",
    "        input: Input array used in the forward pass.\n",
    "        indices: Indices of the maximum values obtained during max-pooling.\n",
    "        grad_output: Gradient of the loss function with respect to the output of max-pooling.\n",
    "        pool_size: Size of the pooling window (height, width).\n",
    "\n",
    "    Returns:\n",
    "        Gradient of the loss function with respect to the input of max-pooling.\n",
    "    \"\"\"\n",
    "    grad_input = zeros(size(input))\n",
    "\n",
    "    # Loop through each pooled region\n",
    "    for j in 1:size(indices, 1)\n",
    "        for i in 1:size(indices, 2)\n",
    "            # Get the index of the maximum value in the pooled region\n",
    "            idx = indices[j, i]\n",
    "            # Compute the gradient only for the maximum value\n",
    "            grad_input[idx] += grad_output[j, i]\n",
    "        end\n",
    "    end\n",
    "\n",
    "    return grad_input\n",
    "end\n",
    "\n",
    "# Example usage\n",
    "input = rand(4, 4)  # Input feature map\n",
    "pool_size = (2, 2)  # Pooling window size\n",
    "indices = Flux.argmax(input, dims=(1, 2))  # Indices of maximum values\n",
    "grad_output = rand(2, 2)  # Gradient of the loss function with respect to the output of max-pooling\n",
    "\n",
    "# Perform backward pass\n",
    "grad_input = max_pool_backward(input, indices, grad_output, pool_size)\n"
   ]
  },
  {
   "cell_type": "code",
   "execution_count": 44,
   "metadata": {},
   "outputs": [
    {
     "data": {
      "text/plain": [
       "6×6 Matrix{Float64}:\n",
       "  0.499089  -0.174685  -0.568829   0.289587  -0.372544   -0.0210263\n",
       "  0.189035  -0.273204  -0.10566   -0.167201  -0.514422   -0.404746\n",
       " -0.347376  -0.444532  -0.601563   0.116733   0.197133    0.556858\n",
       "  0.631024  -0.557323   0.231998  -0.609688   0.418192    0.277283\n",
       "  0.48974   -0.133705   0.398736   0.206601   0.0790698  -0.183227\n",
       " -0.628861   0.363727   0.233374  -0.170211   0.22924     0.483696"
      ]
     },
     "metadata": {},
     "output_type": "display_data"
    }
   ],
   "source": [
    "# Example usage\n",
    "sizer = (6, 6)  # Size of the array\n",
    "gain = 1.0  # Gain factor\n",
    "fan_in = 10  # Number of input units\n",
    "fan_out = 5  # Number of output units\n",
    "\n",
    "result = uniform_rand(sizer, gain, fan_in, fan_out)"
   ]
  },
  {
   "cell_type": "code",
   "execution_count": 45,
   "metadata": {},
   "outputs": [
    {
     "data": {
      "text/plain": [
       "forwarder (generic function with 1 method)"
      ]
     },
     "metadata": {},
     "output_type": "display_data"
    }
   ],
   "source": [
    "function forwarder(x)\n",
    "\n",
    "    input_height, input_width = size(x)\n",
    "\n",
    "    output_height = div(input_height, 2)\n",
    "    output_width = div(input_width, 2)\n",
    "\n",
    "    y = zeros(output_height, output_width)\n",
    "\n",
    "    for j in 1:output_height\n",
    "        for i in 1:output_width\n",
    "            region = x[2*j - 1:2*j, 2*i - 1:i *2]\n",
    "            y[j, i] = maximum(region)\n",
    "        end\n",
    "    end\n",
    "\n",
    "    return y\n",
    "end"
   ]
  },
  {
   "cell_type": "code",
   "execution_count": 49,
   "metadata": {},
   "outputs": [
    {
     "data": {
      "text/plain": [
       "3×3 Matrix{Float64}:\n",
       " 0.499089  0.289587  -0.0210263\n",
       " 0.631024  0.231998   0.556858\n",
       " 0.48974   0.398736   0.483696"
      ]
     },
     "metadata": {},
     "output_type": "display_data"
    }
   ],
   "source": [
    "forwarder(result)"
   ]
  }
 ],
 "metadata": {
  "kernelspec": {
   "display_name": "Julia 1.10.2",
   "language": "julia",
   "name": "julia-1.10"
  },
  "language_info": {
   "file_extension": ".jl",
   "mimetype": "application/julia",
   "name": "julia",
   "version": "1.10.2"
  }
 },
 "nbformat": 4,
 "nbformat_minor": 2
}
