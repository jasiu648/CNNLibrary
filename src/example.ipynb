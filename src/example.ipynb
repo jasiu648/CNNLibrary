{
 "cells": [
  {
   "cell_type": "code",
   "execution_count": 1,
   "id": "9e088683-1134-442c-9d10-dc39d43820a0",
   "metadata": {},
   "outputs": [
    {
     "data": {
      "text/plain": [
       "(eta = 0.01, epochs = 3, batchsize = 100)"
      ]
     },
     "metadata": {},
     "output_type": "display_data"
    }
   ],
   "source": [
    "include(\"load_data.jl\")\n",
    "include(\"network.jl\")\n",
    "\n",
    "# Preparing train data\n",
    "x_train = reshape(train_data.features, 28, 28, 1, :)\n",
    "y_train  = onehotmatrix(train_data.targets, 0:9)\n",
    "\n",
    "# Preparing test data\n",
    "x_test = reshape(test_data.features, 28, 28, 1, :) \n",
    "y_test = onehotmatrix(test_data.targets, 0:9)\n",
    "\n",
    "# Learning parameters\n",
    "settings = (;\n",
    "eta = 0.01,\n",
    "epochs = 3,\n",
    "batchsize = 100,\n",
    ")\n"
   ]
  },
  {
   "cell_type": "code",
   "execution_count": 2,
   "id": "743f5ddf",
   "metadata": {},
   "outputs": [],
   "source": [
    "# Initializing model\n",
    "model = initialize_model();"
   ]
  },
  {
   "cell_type": "code",
   "execution_count": 3,
   "id": "bf7b6bb8",
   "metadata": {},
   "outputs": [
    {
     "name": "stdout",
     "output_type": "stream",
     "text": [
      "127.522081 seconds (269.02 M allocations: 61.994 GiB, 6.68% gc time, 8.07% compilation time)\n",
      "Epoch:1\n",
      "Train accuracy: "
     ]
    }
   ],
   "source": [
    "# Training phase\n",
    "train_model(model, x_train, y_train', settings)"
   ]
  },
  {
   "cell_type": "code",
   "execution_count": null,
   "id": "2e8dfed1",
   "metadata": {},
   "outputs": [],
   "source": [
    "# Testing phase\n",
    "test_model(model, x_test, y_test')      \n"
   ]
  }
 ],
 "metadata": {
  "kernelspec": {
   "display_name": "Julia 1.10.2",
   "language": "julia",
   "name": "julia-1.10"
  },
  "language_info": {
   "file_extension": ".jl",
   "mimetype": "application/julia",
   "name": "julia",
   "version": "1.10.2"
  }
 },
 "nbformat": 4,
 "nbformat_minor": 5
}
