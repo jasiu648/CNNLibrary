{
 "cells": [
  {
   "cell_type": "code",
   "execution_count": 1,
   "id": "9e088683-1134-442c-9d10-dc39d43820a0",
   "metadata": {},
   "outputs": [
    {
     "data": {
      "text/plain": [
       "(eta = 0.01, epochs = 3, batchsize = 100)"
      ]
     },
     "metadata": {},
     "output_type": "display_data"
    }
   ],
   "source": [
    "include(\"load_data.jl\")\n",
    "include(\"model.jl\")\n",
    "\n",
    "# Preparing train data\n",
    "x_train = reshape(train_data.features, 28, 28, 1, :)\n",
    "y_train  = onehotmatrix(train_data.targets, 0:9)\n",
    "\n",
    "# Preparing test data\n",
    "x_test = reshape(test_data.features, 28, 28, 1, :) \n",
    "y_test = onehotmatrix(test_data.targets, 0:9)\n",
    "\n",
    "# Learning parameters\n",
    "settings = (;\n",
    "eta = 0.01,\n",
    "epochs = 3,\n",
    "batchsize = 100,\n",
    ")\n"
   ]
  },
  {
   "cell_type": "code",
   "execution_count": null,
   "id": "743f5ddf",
   "metadata": {},
   "outputs": [],
   "source": [
    "# Initializing model\n",
    "model = initialize_model()"
   ]
  },
  {
   "cell_type": "code",
   "execution_count": 5,
   "id": "bf7b6bb8",
   "metadata": {},
   "outputs": [
    {
     "name": "stdout",
     "output_type": "stream",
     "text": [
      " 42.168749 seconds (263.11 M allocations: 63.453 GiB, 9.10% gc time)\n",
      "Epoch:1\n",
      "Train accuracy: 0.8715833333333334\n",
      "Epoch loss: 3.017531891484542\n",
      "\n",
      " 40.998316 seconds (263.11 M allocations: 63.453 GiB, 9.05% gc time)\n",
      "Epoch:2\n",
      "Train accuracy: 0.8715333333333334\n",
      "Epoch loss: 2.3259613579107445\n",
      "\n",
      " 41.321696 seconds (263.11 M allocations: 63.453 GiB, 8.98% gc time)\n",
      "Epoch:3\n",
      "Train accuracy: 0.868\n",
      "Epoch loss: 1.9096133903051862\n",
      "\n",
      "124.492899 seconds (789.33 M allocations: 190.360 GiB, 9.05% gc time)\n"
     ]
    }
   ],
   "source": [
    "# Training phase\n",
    "train_model(model, x_train, y_train', settings)"
   ]
  },
  {
   "cell_type": "code",
   "execution_count": 4,
   "id": "2e8dfed1",
   "metadata": {},
   "outputs": [
    {
     "name": "stdout",
     "output_type": "stream",
     "text": [
      "  2.434752 seconds (20.96 M allocations: 2.643 GiB, 9.74% gc time)\n",
      "Test Accuracy: 0.8614\n"
     ]
    }
   ],
   "source": [
    "# Testing phase\n",
    "test_model(model, x_test, y_test')\n"
   ]
  }
 ],
 "metadata": {
  "kernelspec": {
   "display_name": "Julia 1.10.2",
   "language": "julia",
   "name": "julia-1.10"
  },
  "language_info": {
   "file_extension": ".jl",
   "mimetype": "application/julia",
   "name": "julia",
   "version": "1.10.2"
  }
 },
 "nbformat": 4,
 "nbformat_minor": 5
}
