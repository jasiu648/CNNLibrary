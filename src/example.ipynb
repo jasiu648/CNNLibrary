{
 "cells": [
  {
   "cell_type": "code",
   "execution_count": 1,
   "id": "9e088683-1134-442c-9d10-dc39d43820a0",
   "metadata": {},
   "outputs": [
    {
     "data": {
      "text/plain": [
       "(eta = 0.01, epochs = 3, batchsize = 100)"
      ]
     },
     "metadata": {},
     "output_type": "display_data"
    }
   ],
   "source": [
    "include(\"load_data.jl\")\n",
    "include(\"network.jl\")\n",
    "\n",
    "# Preparing train data\n",
    "x_train = reshape(train_data.features, 28, 28, 1, :)\n",
    "y_train  = onehotmatrix(train_data.targets, 0:9)\n",
    "\n",
    "# Preparing test data\n",
    "x_test = reshape(test_data.features, 28, 28, 1, :) \n",
    "y_test = onehotmatrix(test_data.targets, 0:9)\n",
    "\n",
    "# Learning parameters\n",
    "settings = (;\n",
    "eta = 0.01,\n",
    "epochs = 3,\n",
    "batchsize = 100,\n",
    ")\n"
   ]
  },
  {
   "cell_type": "code",
   "execution_count": 2,
   "id": "743f5ddf",
   "metadata": {},
   "outputs": [],
   "source": [
    "# Initializing model\n",
    "model = initialize_model();"
   ]
  },
  {
   "cell_type": "code",
   "execution_count": 3,
   "id": "bf7b6bb8",
   "metadata": {},
   "outputs": [
    {
     "name": "stdout",
     "output_type": "stream",
     "text": [
      " 42.292156 seconds (268.98 M allocations: 61.994 GiB, 8.67% gc time, 10.26% compilation time)\n",
      "Epoch:1\n",
      "Train accuracy: 0.8667333333333334\n",
      "Epoch loss: 1.2337966160019462\n",
      "\n",
      " 37.653795 seconds (262.75 M allocations: 61.584 GiB, 7.68% gc time)\n",
      "Epoch:2\n",
      "Train accuracy: 0.8965333333333333\n",
      "Epoch loss: 0.39819283101410924\n",
      "\n",
      " 32.086723 seconds (262.75 M allocations: 61.584 GiB, 5.82% gc time)\n",
      "Epoch:3\n",
      "Train accuracy: 0.9085833333333333\n",
      "Epoch loss: 0.3303138031214018\n",
      "\n",
      "145.704905 seconds (1.17 G allocations: 227.158 GiB, 7.61% gc time, 3.09% compilation time)\n"
     ]
    }
   ],
   "source": [
    "# Training phase\n",
    "train_model(model, x_train, y_train', settings)"
   ]
  },
  {
   "cell_type": "code",
   "execution_count": 4,
   "id": "2e8dfed1",
   "metadata": {},
   "outputs": [
    {
     "name": "stdout",
     "output_type": "stream",
     "text": [
      "  1.927411 seconds (20.92 M allocations: 2.333 GiB, 7.61% gc time)\n",
      "Test Accuracy: 0.9159\n"
     ]
    }
   ],
   "source": [
    "# Testing phase\n",
    "test_model(model, x_test, y_test')      "
   ]
  }
 ],
 "metadata": {
  "kernelspec": {
   "display_name": "Julia 1.10.2",
   "language": "julia",
   "name": "julia-1.10"
  },
  "language_info": {
   "file_extension": ".jl",
   "mimetype": "application/julia",
   "name": "julia",
   "version": "1.10.2"
  }
 },
 "nbformat": 4,
 "nbformat_minor": 5
}
