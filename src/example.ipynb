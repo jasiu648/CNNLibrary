{
 "cells": [
  {
   "cell_type": "code",
   "execution_count": 2,
   "id": "9e088683-1134-442c-9d10-dc39d43820a0",
   "metadata": {},
   "outputs": [
    {
     "data": {
      "text/plain": [
       "(eta = 0.01, epochs = 3, batchsize = 100)"
      ]
     },
     "metadata": {},
     "output_type": "display_data"
    }
   ],
   "source": [
    "include(\"load_data.jl\")\n",
    "include(\"network.jl\")\n",
    "include(\"layers.jl\")\n",
    "\n",
    "# Preparing train data\n",
    "x_train = reshape(train_data.features, 28, 28, 1, :)\n",
    "y_train  = onehotmatrix(train_data.targets, 0:9)\n",
    "\n",
    "# Preparing test data\n",
    "x_test = reshape(test_data.features, 28, 28, 1, :) \n",
    "y_test = onehotmatrix(test_data.targets, 0:9)\n",
    "\n",
    "# Learning parameters\n",
    "settings = (;\n",
    "eta = 0.01,\n",
    "epochs = 3,\n",
    "batchsize = 100,\n",
    ")\n"
   ]
  },
  {
   "cell_type": "code",
   "execution_count": 2,
   "id": "e069d78f",
   "metadata": {},
   "outputs": [],
   "source": [
    "# Build first model\n",
    "\n",
    "layers = [\n",
    "    ConvLayer(3,3,1,6),\n",
    "    ReLULayer(),\n",
    "    MaxPoolLayer((2,2)),\n",
    "    FlattenLayer(),\n",
    "    DenseLayer(84,1014),\n",
    "    ReLULayer(),\n",
    "    DenseLayer(10,84),\n",
    "    LogitCrossEntropyLayer()\n",
    "];\n",
    "\n",
    "model = build_graph(layers, (28,28,1),(10));"
   ]
  },
  {
   "cell_type": "code",
   "execution_count": 7,
   "id": "38e5ec09",
   "metadata": {},
   "outputs": [
    {
     "data": {
      "text/plain": [
       "14-element Vector{GraphNode}:\n",
       " const [0.0 0.0 … 0.0 0.0; 0.0 0.0 … 0.0 0.0; … ; 0.0 0.0 … 0.0 0.0; 0.0 0.0 … 0.0 0.0;;;]\n",
       " var ?\n",
       " ┣━ ^ 3×3×1×6 Array{Float64, 4}\n",
       " ┗━ ∇ Nothing\n",
       " op.?(typeof(convolution))\n",
       " op.?(typeof(relu))\n",
       " const (2, 2)\n",
       " op.?(typeof(maxpool))\n",
       " op.?(typeof(flatten))\n",
       " var ?\n",
       " ┣━ ^ 84×1014 Matrix{Float64}\n",
       " ┗━ ∇ 84×1014 Matrix{Float64}\n",
       " op.?(typeof(dense))\n",
       " op.?(typeof(relu))\n",
       " var ?\n",
       " ┣━ ^ 10×84 Matrix{Float64}\n",
       " ┗━ ∇ 10×84 Matrix{Float64}\n",
       " op.?(typeof(dense))\n",
       " const [0.0, 0.0, 0.0, 0.0, 0.0, 1.0, 0.0, 0.0, 0.0, 0.0]\n",
       " op.?(typeof(cross_entropy_loss))"
      ]
     },
     "metadata": {},
     "output_type": "display_data"
    }
   ],
   "source": [
    "model.graph"
   ]
  },
  {
   "cell_type": "code",
   "execution_count": 4,
   "id": "bf7b6bb8",
   "metadata": {},
   "outputs": [
    {
     "name": "stdout",
     "output_type": "stream",
     "text": [
      " 46.279454 seconds (267.75 M allocations: 62.238 GiB, 6.95% gc time, 6.47% compilation time)\n",
      "Epoch:1\n",
      "Train accuracy: 0.85375\n",
      "Epoch loss: 1.343389721922229\n",
      "\n",
      " 42.177763 seconds (263.83 M allocations: 61.982 GiB, 7.16% gc time)\n",
      "Epoch:2\n",
      "Train accuracy: 0.8937666666666667\n",
      "Epoch loss: 0.4223870783628048\n",
      "\n",
      " 39.291570 seconds (263.83 M allocations: 61.982 GiB, 6.50% gc time)\n",
      "Epoch:3\n",
      "Train accuracy: 0.90745\n",
      "Epoch loss: 0.33583477317819677\n",
      "\n"
     ]
    }
   ],
   "source": [
    "# Training phase\n",
    "train_model(model, x_train, y_train', settings)"
   ]
  },
  {
   "cell_type": "code",
   "execution_count": 5,
   "id": "2e8dfed1",
   "metadata": {},
   "outputs": [
    {
     "name": "stdout",
     "output_type": "stream",
     "text": [
      "  1.792528 seconds (20.96 M allocations: 2.335 GiB, 8.64% gc time)\n",
      "Test Accuracy: 0.9174\n"
     ]
    }
   ],
   "source": [
    "# Testing phase\n",
    "test_model(model, x_test, y_test')      "
   ]
  },
  {
   "cell_type": "code",
   "execution_count": 12,
   "id": "47162387",
   "metadata": {},
   "outputs": [
    {
     "data": {
      "text/plain": [
       "84-element Vector{Float64}:\n",
       "  18.086119454655872\n",
       "  -0.6189352319051379\n",
       " -40.73979851763418\n",
       "  15.50589266035927\n",
       "  -6.985459735637852\n",
       "   7.785841913197765\n",
       " -24.04901780542432\n",
       "   0.29103894479969483\n",
       " -14.751658156452459\n",
       "  -7.838534432033836\n",
       "   ⋮\n",
       " -11.37991022755799\n",
       " -17.64915673030401\n",
       "   8.73185714308596\n",
       "   4.140025986456891\n",
       "  13.186047753851081\n",
       "  10.989222917745069\n",
       " -23.281163371622604\n",
       "  27.93565526923129\n",
       " -22.619460070616714"
      ]
     },
     "metadata": {},
     "output_type": "display_data"
    }
   ],
   "source": [
    "w = randn(84,400)\n",
    "x = randn(400)\n",
    "w *x"
   ]
  },
  {
   "cell_type": "code",
   "execution_count": 13,
   "id": "b9fb2083",
   "metadata": {},
   "outputs": [
    {
     "data": {
      "text/plain": [
       "84-element Vector{Float64}:\n",
       "  18.086119454655872\n",
       "  -0.6189352319051379\n",
       " -40.73979851763418\n",
       "  15.50589266035927\n",
       "  -6.985459735637852\n",
       "   7.785841913197765\n",
       " -24.04901780542432\n",
       "   0.29103894479969483\n",
       " -14.751658156452459\n",
       "  -7.838534432033836\n",
       "   ⋮\n",
       " -11.37991022755799\n",
       " -17.64915673030401\n",
       "   8.73185714308596\n",
       "   4.140025986456891\n",
       "  13.186047753851081\n",
       "  10.989222917745069\n",
       " -23.281163371622604\n",
       "  27.93565526923129\n",
       " -22.619460070616714"
      ]
     },
     "metadata": {},
     "output_type": "display_data"
    }
   ],
   "source": [
    "w*x .+ 0"
   ]
  },
  {
   "cell_type": "code",
   "execution_count": 2,
   "id": "358bc32f",
   "metadata": {},
   "outputs": [],
   "source": [
    "# Build second model\n",
    "\n",
    "layers2 = [\n",
    "    ConvLayer(3,3,1,6),\n",
    "    ReLULayer(),\n",
    "    MaxPoolLayer((2,2)),\n",
    "    ConvLayer(3,3,6,16),\n",
    "    ReLULayer(),;alllaaaflllaafsafafffagggsdgdsdg\n",
    "    MaxPoolLayer((2,2)),\n",
    "    FlattenLayer(),\n",
    "    DenseLayer(84,400),\n",
    "    ReLULayer(),\n",
    "    DenseLayer(10,84),\n",
    "    LogitCrossEntropyLayer()\n",
    "];\n",
    "\n",
    "model2 = build_graph(layers2, (28,28,1),(10));"
   ]
  },
  {
   "cell_type": "code",
   "execution_count": 19,
   "id": "f1b9c594",
   "metadata": {},
   "outputs": [
    {
     "name": "stdout",
     "output_type": "stream",
     "text": [
      " 65.223275 seconds (374.16 M allocations: 47.884 GiB, 4.21% gc time, 5.10% compilation time)\n",
      "Epoch:1\n",
      "Train accuracy: 0.8626666666666667\n",
      "Epoch loss: 1.1311945264238432\n",
      "\n",
      " 61.194970 seconds (369.92 M allocations: 47.606 GiB, 4.16% gc time)\n",
      "Epoch:2\n",
      "Train accuracy: 0.91175\n",
      "Epoch loss: 0.334613077958039\n",
      "\n",
      " 63.676855 seconds (369.92 M allocations: 47.606 GiB, 4.05% gc time)\n",
      "Epoch:3\n",
      "Train accuracy: 0.9315666666666667\n",
      "Epoch loss: 0.24359271596375992\n",
      "\n"
     ]
    }
   ],
   "source": [
    "# Training phase\n",
    "train_model(model2, x_train, y_train', settings)"
   ]
  },
  {
   "cell_type": "code",
   "execution_count": 3,
   "id": "dfeebed5",
   "metadata": {},
   "outputs": [
    {
     "name": "stdout",
     "output_type": "stream",
     "text": [
      "  6.981885 seconds (34.66 M allocations: 3.601 GiB, 4.68% gc time, 38.81% compilation time)\n",
      "Test Accuracy: 0.0\n"
     ]
    }
   ],
   "source": [
    "# Testing phase\n",
    "test_model(model2, x_test, y_test')    "
   ]
  },
  {
   "cell_type": "code",
   "execution_count": 6,
   "id": "c36912c9",
   "metadata": {},
   "outputs": [],
   "source": [
    "layers3 = [\n",
    "    ConvLayer(2,2,1,4),\n",
    "    ReLULayer(),\n",
    "    MaxPoolLayer((3,3)),\n",
    "    FlattenLayer(),\n",
    "    DenseLayer(10,324),\n",
    "    LogitCrossEntropyLayer()\n",
    "]\n",
    "\n",
    "model3 = build_graph(layers3, (28,28,1),(10));"
   ]
  },
  {
   "cell_type": "code",
   "execution_count": 8,
   "id": "0d638520",
   "metadata": {},
   "outputs": [
    {
     "name": "stdout",
     "output_type": "stream",
     "text": [
      " 18.437443 seconds (98.32 M allocations: 12.630 GiB, 6.18% gc time, 15.80% compilation time)\n",
      "Epoch:1\n",
      "Train accuracy: 0.7704666666666666\n",
      "Epoch loss: 1.7798253142764084\n",
      "\n",
      " 15.384875 seconds (94.63 M allocations: 12.389 GiB, 7.09% gc time)\n",
      "Epoch:2\n",
      "Train accuracy: 0.8310666666666666\n",
      "Epoch loss: 0.8228385514795735\n",
      "\n",
      " 15.224846 seconds (94.63 M allocations: 12.389 GiB, 7.28% gc time)\n",
      "Epoch:3\n",
      "Train accuracy: 0.8541166666666666\n",
      "Epoch loss: 0.5689068758250293\n",
      "\n"
     ]
    }
   ],
   "source": [
    "# Training phase\n",
    "train_model(model3, x_train, y_train', settings)"
   ]
  },
  {
   "cell_type": "code",
   "execution_count": 9,
   "id": "f428158e",
   "metadata": {},
   "outputs": [
    {
     "name": "stdout",
     "output_type": "stream",
     "text": [
      "  0.941173 seconds (7.03 M allocations: 1.072 GiB, 15.47% gc time)\n",
      "Test Accuracy: 0.8642\n"
     ]
    }
   ],
   "source": [
    "# Testing phase\n",
    "test_model(model3, x_test, y_test')    "
   ]
  }
 ],
 "metadata": {
  "kernelspec": {
   "display_name": "Julia 1.10.2",
   "language": "julia",
   "name": "julia-1.10"
  },
  "language_info": {
   "file_extension": ".jl",
   "mimetype": "application/julia",
   "name": "julia",
   "version": "1.10.2"
  }
 },
 "nbformat": 4,
 "nbformat_minor": 5
}
