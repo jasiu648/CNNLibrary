{
 "cells": [
  {
   "cell_type": "code",
   "execution_count": 15,
   "id": "9e088683-1134-442c-9d10-dc39d43820a0",
   "metadata": {},
   "outputs": [
    {
     "data": {
      "text/plain": [
       "(eta = 0.01, epochs = 3, batchsize = 100)"
      ]
     },
     "metadata": {},
     "output_type": "display_data"
    }
   ],
   "source": [
    "include(\"load_data.jl\")\n",
    "include(\"network.jl\")\n",
    "include(\"layers.jl\")\n",
    "\n",
    "# Preparing train data\n",
    "x_train = reshape(train_data.features, 28, 28, 1, :)\n",
    "y_train  = onehotmatrix(train_data.targets, 0:9)\n",
    "\n",
    "# Preparing test data\n",
    "x_test = reshape(test_data.features, 28, 28, 1, :) \n",
    "y_test = onehotmatrix(test_data.targets, 0:9)\n",
    "\n",
    "# Learning parameters\n",
    "settings = (;\n",
    "eta = 0.01,\n",
    "epochs = 3,\n",
    "batchsize = 100,\n",
    ")\n"
   ]
  },
  {
   "cell_type": "code",
   "execution_count": 2,
   "id": "e069d78f",
   "metadata": {},
   "outputs": [],
   "source": [
    "# Build first model\n",
    "\n",
    "layers = [\n",
    "    ConvLayer(3,3,1,6),\n",
    "    ReLULayer(),\n",
    "    MaxPoolLayer(),\n",
    "    FlattenLayer(),\n",
    "    DenseLayer(84,1014),\n",
    "    ReLULayer(),\n",
    "    DenseLayer(10,84),\n",
    "    LogitCrossEntropyLayer()\n",
    "];\n",
    "\n",
    "model = build_graph(layers, (28,28,1),(10));"
   ]
  },
  {
   "cell_type": "code",
   "execution_count": 3,
   "id": "bf7b6bb8",
   "metadata": {},
   "outputs": [
    {
     "name": "stdout",
     "output_type": "stream",
     "text": [
      " 48.362671 seconds (269.52 M allocations: 62.392 GiB, 7.04% gc time, 9.75% compilation time)\n",
      "Epoch:1\n",
      "Train accuracy: 0.8719\n",
      "Epoch loss: 1.1240583357808964\n",
      "\n",
      " 41.843507 seconds (262.75 M allocations: 61.947 GiB, 7.11% gc time)\n",
      "Epoch:2\n",
      "Train accuracy: 0.8999666666666667\n",
      "Epoch loss: 0.3924528280066381\n",
      "\n",
      " 45.612041 seconds (262.75 M allocations: 61.947 GiB, 6.83% gc time)\n",
      "Epoch:3\n",
      "Train accuracy: 0.9122666666666667\n",
      "Epoch loss: 0.3244783512403392\n",
      "\n"
     ]
    }
   ],
   "source": [
    "# Training phase\n",
    "train_model(model, x_train, y_train', settings)"
   ]
  },
  {
   "cell_type": "code",
   "execution_count": 3,
   "id": "2e8dfed1",
   "metadata": {},
   "outputs": [
    {
     "name": "stdout",
     "output_type": "stream",
     "text": [
      "  4.100399 seconds (24.05 M allocations: 2.541 GiB, 6.46% gc time, 44.33% compilation time)\n",
      "Test Accuracy: 0.0912\n"
     ]
    }
   ],
   "source": [
    "# Testing phase\n",
    "test_model(model, x_test, y_test')      "
   ]
  },
  {
   "cell_type": "code",
   "execution_count": 12,
   "id": "47162387",
   "metadata": {},
   "outputs": [
    {
     "data": {
      "text/plain": [
       "84-element Vector{Float64}:\n",
       "  18.086119454655872\n",
       "  -0.6189352319051379\n",
       " -40.73979851763418\n",
       "  15.50589266035927\n",
       "  -6.985459735637852\n",
       "   7.785841913197765\n",
       " -24.04901780542432\n",
       "   0.29103894479969483\n",
       " -14.751658156452459\n",
       "  -7.838534432033836\n",
       "   ⋮\n",
       " -11.37991022755799\n",
       " -17.64915673030401\n",
       "   8.73185714308596\n",
       "   4.140025986456891\n",
       "  13.186047753851081\n",
       "  10.989222917745069\n",
       " -23.281163371622604\n",
       "  27.93565526923129\n",
       " -22.619460070616714"
      ]
     },
     "metadata": {},
     "output_type": "display_data"
    }
   ],
   "source": [
    "w = randn(84,400)\n",
    "x = randn(400)\n",
    "w *x"
   ]
  },
  {
   "cell_type": "code",
   "execution_count": 13,
   "id": "b9fb2083",
   "metadata": {},
   "outputs": [
    {
     "data": {
      "text/plain": [
       "84-element Vector{Float64}:\n",
       "  18.086119454655872\n",
       "  -0.6189352319051379\n",
       " -40.73979851763418\n",
       "  15.50589266035927\n",
       "  -6.985459735637852\n",
       "   7.785841913197765\n",
       " -24.04901780542432\n",
       "   0.29103894479969483\n",
       " -14.751658156452459\n",
       "  -7.838534432033836\n",
       "   ⋮\n",
       " -11.37991022755799\n",
       " -17.64915673030401\n",
       "   8.73185714308596\n",
       "   4.140025986456891\n",
       "  13.186047753851081\n",
       "  10.989222917745069\n",
       " -23.281163371622604\n",
       "  27.93565526923129\n",
       " -22.619460070616714"
      ]
     },
     "metadata": {},
     "output_type": "display_data"
    }
   ],
   "source": [
    "\n",
    "w*x .+ 0"
   ]
  },
  {
   "cell_type": "code",
   "execution_count": 16,
   "id": "358bc32f",
   "metadata": {},
   "outputs": [],
   "source": [
    "# Build second model\n",
    "\n",
    "layers2 = [\n",
    "    ConvLayer(3,3,1,6),\n",
    "    ReLULayer(),\n",
    "    MaxPoolLayer(),\n",
    "    ConvLayer(3,3,6,16),\n",
    "    ReLULayer(),\n",
    "    MaxPoolLayer(),\n",
    "    FlattenLayer(),\n",
    "    DenseLayer(84,400; bias = true),\n",
    "    ReLULayer(),\n",
    "    DenseLayer(10,84; bias = true),\n",
    "    LogitCrossEntropyLayer()\n",
    "];\n",
    "\n",
    "model2 = build_graph(layers2, (28,28,1),(10));"
   ]
  },
  {
   "cell_type": "code",
   "execution_count": 17,
   "id": "f1b9c594",
   "metadata": {},
   "outputs": [],
   "source": [
    "# Training phase\n",
    "train_model(model2, x_train, y_train', settings)"
   ]
  },
  {
   "cell_type": "code",
   "execution_count": 10,
   "id": "d686821b",
   "metadata": {},
   "outputs": [
    {
     "data": {
      "text/plain": [
       "19-element Vector{GraphNode}:\n",
       " const [0.0 0.0 … 0.0 0.0; 0.0 0.0 … 0.0 0.0; … ; 0.0 0.0 … 0.0 0.0; 0.0 0.0 … 0.0 0.0;;;]\n",
       " var ?\n",
       " ┣━ ^ 3×3×1×6 Array{Float64, 4}\n",
       " ┗━ ∇ Nothing\n",
       " op.?(typeof(convolution))\n",
       " op.?(typeof(relu))\n",
       " op.?(typeof(maxpool))\n",
       " var ?\n",
       " ┣━ ^ 3×3×6×16 Array{Float64, 4}\n",
       " ┗━ ∇ Nothing\n",
       " op.?(typeof(convolution))\n",
       " op.?(typeof(relu))\n",
       " op.?(typeof(maxpool))\n",
       " op.?(typeof(flatten))\n",
       " var ?\n",
       " ┣━ ^ 84×400 Matrix{Float64}\n",
       " ┗━ ∇ Nothing\n",
       " var ?\n",
       " ┣━ ^ 84×1 Matrix{Float64}\n",
       " ┗━ ∇ Nothing\n",
       " op.?(typeof(dense))\n",
       " op.?(typeof(relu))\n",
       " var ?\n",
       " ┣━ ^ 10×84 Matrix{Float64}\n",
       " ┗━ ∇ Nothing\n",
       " var ?\n",
       " ┣━ ^ 10×1 Matrix{Float64}\n",
       " ┗━ ∇ Nothing\n",
       " op.?(typeof(dense))\n",
       " const [0.0, 0.0, 0.0, 0.0, 0.0, 0.0, 1.0, 0.0, 0.0, 0.0]\n",
       " op.?(typeof(cross_entropy_loss))"
      ]
     },
     "metadata": {},
     "output_type": "display_data"
    }
   ],
   "source": [
    "model2.graph"
   ]
  },
  {
   "cell_type": "code",
   "execution_count": 6,
   "id": "dfeebed5",
   "metadata": {},
   "outputs": [
    {
     "name": "stdout",
     "output_type": "stream",
     "text": [
      "  5.811868 seconds (32.12 M allocations: 3.439 GiB, 4.71% gc time, 18.98% compilation time)\n",
      "Test Accuracy: 0.0\n"
     ]
    }
   ],
   "source": [
    "# Testing phase\n",
    "test_model(model2, x_test, y_test')    "
   ]
  }
 ],
 "metadata": {
  "kernelspec": {
   "display_name": "Julia 1.10.2",
   "language": "julia",
   "name": "julia-1.10"
  },
  "language_info": {
   "file_extension": ".jl",
   "mimetype": "application/julia",
   "name": "julia",
   "version": "1.10.2"
  }
 },
 "nbformat": 4,
 "nbformat_minor": 5
}
