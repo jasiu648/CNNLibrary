{
 "cells": [
  {
   "cell_type": "markdown",
   "metadata": {},
   "source": [
    "Projekt z Algorytmów w Inżynierii Danych\n",
    "Celem projektu jest napisanie własnej biblioteki do automatycznego różniczkowania, przystosowanej do wykorzystania w uczeniu sztucznych sieci neuronowych.\n",
    "Opracowana biblioteka musi pozwalać na wytrenowanie wskazanej przez prowadzącego sieci neuronowej do zadania klasyfikacji cyfr (problem testowy MNIST). Efektem końcowym projektu będzie napisanie 4 stronicowego artykułu naukowego. Do napisania artykułu należy wykorzystać szablon IEEE Conference Template (dostępne: MS Word, LaTeX, Overleaf)\n",
    "\n",
    "Z uwagi na liczbę parametrów sieci (powyżej 17 tys.) należy zaimplementować automatyczne różniczkowanie z akumulacją gradientu wstecz (ang. reverse-mode automatic differentiation). Można zastosować zarówno podejście oparte o graf obliczeniowy lub dynamiczną generację kodu liczącego gradient. Architektura sieci oraz algorytm optymalizujący wagi są niezmienne i ustalone przez prowadzącego (patrz: Materiały pomocnicze -> Referencyjne rozwiązania we Flux)\n",
    "\n",
    "Studenci realizujący projekt w tygodniach 6-10 realizują konwolucyjną sieć neuronową (CNN).\n",
    "Studenci realizujący projekt w tygodniach 11-15 realizują rekurencyjną sieć neuronową (RNN).\n",
    "Harmonogram\n",
    "\n",
    "Projekt jest podzielony na dwa etapy. W pierwszym studenci pracują indywidualnie, a w drugim mogą (ale nie muszą) połączyć siły w zespołach dwuosobowych. Oddawanie kamieni milowych 1-3 będzie odbywało się przy pomocy systemu ISOD, obrona projektu będzie odbywała się stacjonarnie.\n",
    "\n",
    "Praca indywidualna\n",
    "\n",
    "Opracowanie przeglądu literatury dotyczącego: języka Julia, algorytmów automatycznego różniczkowania, efektywnej implementacji w kontekście sztucznych sieci neuronowych CNN/RNN. Przegląd literatury ma być pierwszą sekcją w finalnym artykule naukowym. Powinien zajmować od pół do jednej strony tekstu (w ww. szablonie).\n",
    "Termin oddania w ISOD: T6/T11.\n",
    "\n",
    "Własna implementacja biblioteki do automatycznego różniczkowania wskazanej sieci neuronowej: należy zmierzyć dokładność nauczonej sieci, przeprowadzić pomiary czasu działania i ilości zaalokowanej pamięci. Warunkiem zaliczenia tej części jest uzyskanie dokładności wyuczenia sieci na poziomie conajmniej 85%. Narzucona architektura sieci oraz konfiguracja i parametry uczenia są przedstawione notatnikach w materiałach pomocniczych poniżej. Na tym etapie prędkość działania implementacji nie będzie miała wpływu na ocenę.\n",
    "Termin oddania w ISOD: T9/T14.\n"
   ]
  },
  {
   "cell_type": "markdown",
   "metadata": {},
   "source": [
    "\n",
    "Praca w zespołach dwuosobowych\n",
    "\n",
    "Opracowanie artykułu naukowego. Artykuł ma opisywać własną implementację biblioteki do automatycznego różniczkowania. Powinien zawierać wcześniej przygotowaną analizę literatur ową, opis przeprowadzonych optymalizacji mających przyśpieszyć działanie biblioteki, testy poprawności, porównanie własnej implementacji z implementacjami referencyjnymi, wnioski oraz bibliografię. Poza dołączonymi poniżej implementacjami referencyjnymi we Flux należy przygotować jeszcze jedno rozwiązanie referencyjne (np. w PyTorch/Keras/Tensorflow) oraz zbadać czas jego działania. Artykuł ma zawierać dokładnie 4 strony tekstu i być wykonany w szablonie IEEE Conference Template.\n",
    "Termin oddania w ISOD: T10/T15\n",
    "\n",
    "Obrona projektu - dla obu grup odbędą się w formie stacjonarnej w sesji egzaminacyjnej. Na terminy obron będą obowiązywały zapisy poprzez ISOD. Na obronę należy przyjść z własnym komputerem, na którym zostanie zaprezentowane działanie własnej implementacji. W przypadku, w którym student nie ma możliwości przyjścia z własnym komputerem, to nie ma problemu, należy jednak poinformować o tym prowadzącego conajmniej 3 dni przed terminem obrony."
   ]
  },
  {
   "cell_type": "markdown",
   "metadata": {
    "vscode": {
     "languageId": "plaintext"
    }
   },
   "source": [
    "Pytania:\n",
    "\n",
    "Sposób na optymalizacje wag, czy przepisac z fluxa czy nowy?\n",
    "\n",
    "Inicjalizacja wag\n",
    "\n",
    "Przeciazanie operatora na identity\n",
    "\n",
    "Jak bardzo opisywac kod w artykule\n",
    "\n",
    "bias?\n",
    "\n"
   ]
  }
 ],
 "metadata": {
  "language_info": {
   "name": "python"
  }
 },
 "nbformat": 4,
 "nbformat_minor": 2
}
